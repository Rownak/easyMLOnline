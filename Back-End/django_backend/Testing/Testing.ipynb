{
 "cells": [
  {
   "cell_type": "code",
   "execution_count": 13,
   "metadata": {},
   "outputs": [
    {
     "name": "stdout",
     "output_type": "stream",
     "text": [
      "[['1', '1', '0', None], ['1', '2', '0', None], ['2', '1', '0', None], ['2', '2', '0', None], ['10', '10', '1', None], ['10', '11', '1', None], ['11', '10', '1', None], ['11', '11', '1', None]]\n",
      "['x', 'y', 'label', None]\n"
     ]
    }
   ],
   "source": [
    "import pandas as pd\n",
    "import json\n",
    "json_string = '{\"label_col\":\"2\", \"n_neighbors\":\"2\", \"train\":[[\"x\",\"y\",\"label\", null],[\"1\",\"1\",\"0\", null],[\"1\",\"2\",\"0\", null],[\"2\",\"1\",\"0\", null],[\"2\",\"2\",\"0\", null],[\"10\",\"10\",\"1\", null],[\"10\",\"11\",\"1\", null],[\"11\",\"10\",\"1\", null],[\"11\",\"11\",\"1\", null]], \"test\":[[\"3\",\"3\"],[\"13\",\"13\"]]}'\n",
    "\n",
    "a_json = json.loads(json_string)\n",
    "#print(a_json)\n",
    "train = a_json[\"train\"]\n",
    "x = train.pop(0)\n",
    "print(train)\n",
    "print(x)\n"
   ]
  },
  {
   "cell_type": "code",
   "execution_count": 10,
   "metadata": {},
   "outputs": [
    {
     "name": "stdout",
     "output_type": "stream",
     "text": [
      "    0   1      2     3\n",
      "0   x   y  label  None\n",
      "1   1   1      0  None\n",
      "2   1   2      0  None\n",
      "3   2   1      0  None\n",
      "4   2   2      0  None\n",
      "5  10  10      1  None\n",
      "6  10  11      1  None\n",
      "7  11  10      1  None\n",
      "8  11  11      1  None\n"
     ]
    }
   ],
   "source": [
    "dataframe = pd.DataFrame(train)\n",
    "print(dataframe)"
   ]
  },
  {
   "cell_type": "code",
   "execution_count": 3,
   "metadata": {},
   "outputs": [
    {
     "data": {
      "text/plain": [
       "array([['a', 'b', 'c'],\n",
       "       ['1', '2', '3'],\n",
       "       ['4', '5', '6']], dtype='<U21')"
      ]
     },
     "execution_count": 3,
     "metadata": {},
     "output_type": "execute_result"
    }
   ],
   "source": [
    "import numpy as np\n",
    "l1 = np.array([[1,2,3],[4,5,6]])\n",
    "l2 = np.array([\"a\",\"b\",\"c\"])\n",
    "l3 = np.concatenate((l2.reshape(1,-1), l1), axis=0)\n",
    "l3"
   ]
  },
  {
   "cell_type": "code",
   "execution_count": null,
   "metadata": {},
   "outputs": [],
   "source": []
  }
 ],
 "metadata": {
  "kernelspec": {
   "display_name": "Python 3",
   "language": "python",
   "name": "python3"
  },
  "language_info": {
   "codemirror_mode": {
    "name": "ipython",
    "version": 3
   },
   "file_extension": ".py",
   "mimetype": "text/x-python",
   "name": "python",
   "nbconvert_exporter": "python",
   "pygments_lexer": "ipython3",
   "version": "3.8.3"
  }
 },
 "nbformat": 4,
 "nbformat_minor": 4
}
